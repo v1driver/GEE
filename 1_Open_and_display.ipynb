{
  "nbformat": 4,
  "nbformat_minor": 0,
  "metadata": {
    "kernelspec": {
      "display_name": "Python 3",
      "language": "python",
      "name": "python3"
    },
    "language_info": {
      "codemirror_mode": {
        "name": "ipython",
        "version": 3
      },
      "file_extension": ".py",
      "mimetype": "text/x-python",
      "name": "python",
      "nbconvert_exporter": "python",
      "pygments_lexer": "ipython3",
      "version": "3.6.6"
    },
    "colab": {
      "name": "1 - Open_and_display.ipynb",
      "provenance": [],
      "collapsed_sections": []
    }
  },
  "cells": [
    {
      "cell_type": "markdown",
      "metadata": {
        "id": "gL1R2F6wbaej",
        "colab_type": "text"
      },
      "source": [
        "# Google Earth Engine: JavaScript, but Python"
      ]
    },
    {
      "cell_type": "markdown",
      "metadata": {
        "id": "XPveyQEHt-Hj",
        "colab_type": "text"
      },
      "source": [
        "[Google Earth Engine (GEE)](https://earthengine.google.com/) is an online tool that combines a huge catalogue of satellite imagery and other geospatial datasets with Google's processing capabilities to reduce processes that before would take days to only seconds.  "
      ]
    },
    {
      "cell_type": "markdown",
      "metadata": {
        "id": "tgjlYZh9uxyT",
        "colab_type": "text"
      },
      "source": [
        "GEE API (Application Programming Interface) is available in JavaScript (the original one) and Python.\n",
        "\n",
        "\n",
        "\n"
      ]
    },
    {
      "cell_type": "markdown",
      "metadata": {
        "id": "3JjaUWYQx9WT",
        "colab_type": "text"
      },
      "source": [
        "The GEE JavaScript API is available through the [Code Editor](https://code.earthengine.google.com/#workspace), and while it is very useful to get started with GEE, it is limited in terms of processing power (time limitations, slower).\n",
        "\n",
        "\n",
        "The GEE Python API can be loaded via a library (`ee`), and combines the power of Python with everything else you can do via the JavaScript API. \n",
        "\n",
        "\n",
        "\n"
      ]
    },
    {
      "cell_type": "markdown",
      "metadata": {
        "id": "edVdlkwAyAAo",
        "colab_type": "text"
      },
      "source": [
        "The only \"issue\" with the Python API: ALL of the GEE [documentation](https://developers.google.com/earth-engine/) and [tutorials](https://developers.google.com/earth-engine/tutorials) are developed in JavaScript!!\n",
        "\n",
        "\n"
      ]
    },
    {
      "cell_type": "markdown",
      "metadata": {
        "id": "_Uqn6xPayCDn",
        "colab_type": "text"
      },
      "source": [
        "Which means there are two possible routes:\n",
        "\n",
        "\n",
        "1.   The painful one (the one I took): learn everything in JavaScript and THEN transfer to Python (NOT RECOMMENDED!).\n",
        "2.   The sensible one, but slower: to learn the Pythonic way from the start.\n",
        "\n",
        "We are only going to use Python in this course, but it is very useful to have all the documentation,e ven if it is JavaScript, as we can see how things are done and translate them!"
      ]
    },
    {
      "cell_type": "markdown",
      "metadata": {
        "id": "jeGcIW_pbaeq",
        "colab_type": "text"
      },
      "source": [
        "Note: we are going to jump directly to Python, but here we show how some things can be expressed in JavaScript and their equivalent in Python. And remember, if you want to use the [GEE online code editor](https://code.earthengine.google.com/), it has to be JavaScript style! \n",
        "\n",
        "I recommend working from Google Colab (using Google's cloud computing services for free!!) and the GEE Python API from the start.\n",
        "\n",
        "We are using the GEE Guides, but online you will find them in JavaScript, while here we have the Python version. You should go through the GEE guides and tutorials in your own time, and try to transfer to Python for consistency."
      ]
    },
    {
      "cell_type": "markdown",
      "metadata": {
        "id": "Kn73Tk6zbaer",
        "colab_type": "text"
      },
      "source": [
        "## `Maps` warning!"
      ]
    },
    {
      "cell_type": "markdown",
      "metadata": {
        "id": "V9aRkeXQwyea",
        "colab_type": "text"
      },
      "source": [
        "The GEE JavaScript does not allow loops or conditionals. Instead, you will have to use the `Map` function. This is a huge limitation , particularly when we want to work with satellite data and other big datasets, machine learning applications, etc.\n",
        "\n",
        "Keep that in mind if you use the GEE Code Editor."
      ]
    },
    {
      "cell_type": "markdown",
      "metadata": {
        "id": "oBWGt04Gbaer",
        "colab_type": "text"
      },
      "source": [
        "# Some basic GEE concepts"
      ]
    },
    {
      "cell_type": "markdown",
      "metadata": {
        "id": "2t4mjQ_ibaes",
        "colab_type": "text"
      },
      "source": [
        "Import the GEE API:"
      ]
    },
    {
      "cell_type": "code",
      "metadata": {
        "id": "_YVPmI6Sbaes",
        "colab_type": "code",
        "colab": {}
      },
      "source": [
        "import ee"
      ],
      "execution_count": null,
      "outputs": []
    },
    {
      "cell_type": "markdown",
      "metadata": {
        "id": "9EpYa9srbaex",
        "colab_type": "text"
      },
      "source": [
        "Authenticate and initialise:"
      ]
    },
    {
      "cell_type": "code",
      "metadata": {
        "id": "i546YYi7baex",
        "colab_type": "code",
        "colab": {}
      },
      "source": [
        "# Trigger the authentication flow.\n",
        "ee.Authenticate()\n",
        "\n",
        "# Initialize the library.\n",
        "ee.Initialize()"
      ],
      "execution_count": null,
      "outputs": []
    },
    {
      "cell_type": "markdown",
      "metadata": {
        "id": "iazv9chVbae1",
        "colab_type": "text"
      },
      "source": [
        "## Image constructor: ee.Image"
      ]
    },
    {
      "cell_type": "markdown",
      "metadata": {
        "id": "xcXAzeJPbae1",
        "colab_type": "text"
      },
      "source": [
        "Raster data is represented as Image objects in Earth Engine. \n",
        "\n",
        "Images are composed of one or more bands and each band has its own name, data type, scale, mask and projection. Each image has metadata stored as a set of properties."
      ]
    },
    {
      "cell_type": "markdown",
      "metadata": {
        "id": "1ZDY0Gbqbae2",
        "colab_type": "text"
      },
      "source": [
        "Images can be loaded by pasting an Earth Engine asset ID into the ee.Image constructor. You can find image IDs in the data catalog. For example, to load JAXA's ALOS DSM:"
      ]
    },
    {
      "cell_type": "code",
      "metadata": {
        "id": "7UuLCFtvbae3",
        "colab_type": "code",
        "colab": {}
      },
      "source": [
        "loadedImage = ee.Image('JAXA/ALOS/AW3D30/V2_2')"
      ],
      "execution_count": null,
      "outputs": []
    },
    {
      "cell_type": "markdown",
      "metadata": {
        "id": "K0z-m9QEbae6",
        "colab_type": "text"
      },
      "source": [
        "Note that finding an image through the GEE Code Editor search tool is equivalent. When you import the asset, the image construction code is written for you in the imports section of the Code Editor. You can also use the asset ID (bottom left when you search online)."
      ]
    },
    {
      "cell_type": "markdown",
      "metadata": {
        "id": "4PVvYPh7bae8",
        "colab_type": "text"
      },
      "source": [
        "## Visualising images and image bands"
      ]
    },
    {
      "cell_type": "markdown",
      "metadata": {
        "id": "1K4XOEbkbae9",
        "colab_type": "text"
      },
      "source": [
        "## Get an ee.Image from an ee.ImageCollection"
      ]
    },
    {
      "cell_type": "markdown",
      "metadata": {
        "id": "IISMM_i2bae9",
        "colab_type": "text"
      },
      "source": [
        "The standard way to get an image out of a collection is to load the collection, filter the collection, with filters in order of decreasing specificity. For example, to get an image out of the Sentinel-2 surface reflectance collection (level 2A):"
      ]
    },
    {
      "cell_type": "code",
      "metadata": {
        "id": "8VOcTyySbafB",
        "colab_type": "code",
        "colab": {}
      },
      "source": [
        "# Image near Acra (Ghana)\n",
        "first = ee.ImageCollection('COPERNICUS/S2_SR').filterBounds(ee.Geometry.Point(0, 6)).filterDate('2019-01-01', '2019-12-31').sort('CLOUDY_PIXEL_PERCENTAGE').first()      "
      ],
      "execution_count": null,
      "outputs": []
    },
    {
      "cell_type": "markdown",
      "metadata": {
        "id": "TbMnMe1xgTR7",
        "colab_type": "text"
      },
      "source": [
        "## Display static image"
      ]
    },
    {
      "cell_type": "code",
      "metadata": {
        "id": "dxYeYJ4RgZuL",
        "colab_type": "code",
        "colab": {}
      },
      "source": [
        "from IPython.display import Image\n",
        "\n",
        "Image(url=first.getThumbUrl({'min': 0, 'max': 2000, 'bands':['B4','B3','B2'],'dimensions': 512}))"
      ],
      "execution_count": null,
      "outputs": []
    },
    {
      "cell_type": "markdown",
      "metadata": {
        "id": "xBJ0OPqVbafI",
        "colab_type": "text"
      },
      "source": [
        "## Constant images"
      ]
    },
    {
      "cell_type": "markdown",
      "metadata": {
        "id": "hL_ATfsP_hOp",
        "colab_type": "text"
      },
      "source": [
        "In addition to loading images by ID, you can also create images from constants, lists or other suitable Earth Engine objects. The following illustrates methods for creating images, getting band subsets, and manipulating bands:"
      ]
    },
    {
      "cell_type": "code",
      "metadata": {
        "id": "idyAOXkr_kfi",
        "colab_type": "code",
        "colab": {}
      },
      "source": [
        "# Create a constant image\n",
        "image1 = ee.Image(1)\n",
        "print(\"image1:\",image1.getInfo())\n",
        "\n",
        "# Concatenate two images into one multi-band image.\n",
        "image2 = ee.Image(2)\n",
        "image3 = ee.Image.cat([image1, image2])\n",
        "print(\"image3:\",image3.getInfo())\n",
        "\n",
        "# Create a multi-band image from a list of constants.\n",
        "multiband = ee.Image([1, 2, 3]);\n",
        "print(\"mutiband:\",multiband.getInfo())\n",
        "\n",
        "# Select and (optionally) rename bands.\n",
        "renamed = multiband.select(['constant', 'constant_1', 'constant_2'],['band1', 'band2', 'band3'])\n",
        "print(\"renamed:\",renamed.getInfo())\n",
        "\n",
        "# Add bands to an image.\n",
        "image4 = image3.addBands(ee.Image(42))\n",
        "print(\"image4:\",image4.getInfo())"
      ],
      "execution_count": null,
      "outputs": []
    },
    {
      "cell_type": "markdown",
      "metadata": {
        "id": "oO_dJ6ARbafI",
        "colab_type": "text"
      },
      "source": [
        "## RGB composites"
      ]
    },
    {
      "cell_type": "markdown",
      "metadata": {
        "id": "eRDAzM4EP2Rq",
        "colab_type": "text"
      },
      "source": [
        "The following illustrates the use of parameters to style a Landsat 8 image as a false-color composite:"
      ]
    },
    {
      "cell_type": "code",
      "metadata": {
        "id": "HlPvaEKNP3_o",
        "colab_type": "code",
        "colab": {}
      },
      "source": [
        "# Load an image.\n",
        "image = ee.Image('LANDSAT/LC08/C01/T1_TOA/LC08_044034_20140318')\n",
        "\n",
        "# ANOTHER WAY TO DO IT\n",
        "#Define the visualization parameters.\n",
        "#vizParams = {'min': 0,  'max': 0.5,  'gamma': [0.95, 1.1, 1]}\n",
        "#import ee.mapclient\n",
        "#ee.mapclient.centerMap(-122.1899, 37.5010, 9) # San Francisco Bay\n",
        "#ee.mapclient.addToMap(image.select('B5','B4','B3'), vizParams, 'False colour composite')\n",
        "\n",
        "# Display the image normally.\n",
        "Image(url=image.getThumbUrl({'bands':['B5','B4','B3'],'min': 0,  'max': 0.5,'dimensions': 512}))"
      ],
      "execution_count": null,
      "outputs": []
    },
    {
      "cell_type": "markdown",
      "metadata": {
        "id": "9flOTebeWEym",
        "colab_type": "text"
      },
      "source": [
        "In this example, band ‘B5’ (NIR) is assigned to red, ‘B4’ (Red) is assigned to green, and ‘B3’ (Green) is assigned to blue, creating the false colour composite.\n",
        "\n",
        "False color composites allow us to visualize the wavelengths the human eye does not see (near the infrared range). The use of bands, such as near infrared, increases spectral separation and can enhance the interpretability of data. "
      ]
    },
    {
      "cell_type": "markdown",
      "metadata": {
        "id": "2OJ0omUvbafJ",
        "colab_type": "text"
      },
      "source": [
        "## Colour palettes"
      ]
    },
    {
      "cell_type": "markdown",
      "metadata": {
        "id": "ZY1KhAAOWrJE",
        "colab_type": "text"
      },
      "source": [
        "To display a single band of an image in colour, set the palette parameter with a colour ramp represented by a list of CSS-style color strings.\n",
        "\n",
        "The following example illustrates how to use colors from cyan (‘00FFFF’) to blue (‘0000FF’) to render a Normalized Difference Water Index (NDWI) image:"
      ]
    },
    {
      "cell_type": "code",
      "metadata": {
        "id": "nNDYEY-gW8nV",
        "colab_type": "code",
        "colab": {}
      },
      "source": [
        "# Create an NDWI image from previous image, define visualization parameters and display\n",
        "ndwi = image.normalizedDifference(['B3', 'B5'])\n",
        "\n",
        "Image(url=ndwi.getThumbUrl({'min': 0.5, 'max': 1, 'palette': ['00FFFF', '0000FF'],'dimensions': 512}))"
      ],
      "execution_count": null,
      "outputs": []
    },
    {
      "cell_type": "markdown",
      "metadata": {
        "id": "I_DajMbbXj3Q",
        "colab_type": "text"
      },
      "source": [
        "In this example, note that the min and max parameters indicate the range of pixel values to which the palette should be applied. Intermediate values are linearly stretched."
      ]
    },
    {
      "cell_type": "markdown",
      "metadata": {
        "id": "Y4SA26uEbafJ",
        "colab_type": "text"
      },
      "source": [
        "## Masking"
      ]
    },
    {
      "cell_type": "markdown",
      "metadata": {
        "id": "PkKrEHZAX03c",
        "colab_type": "text"
      },
      "source": [
        "You can use image.updateMask() to set the opacity of individual pixels based on where pixels in a mask image are non-zero. Pixels equal to zero in the mask are excluded from computations and the opacity is set to 0 for display. The following example uses an NDWI threshold to update the mask on the NDWI layer created previously:"
      ]
    },
    {
      "cell_type": "code",
      "metadata": {
        "id": "cojQTML8X5yt",
        "colab_type": "code",
        "colab": {}
      },
      "source": [
        "# Mask the non-watery parts of the image, where NDWI < 0.4\n",
        "ndwiMasked = ndwi.updateMask(ndwi.gte(0.4))\n",
        "Image(url=ndwiMasked.getThumbUrl({'min': 0.5, 'max': 1, 'palette': ['00FFFF', '0000FF'],'dimensions': 512}))"
      ],
      "execution_count": null,
      "outputs": []
    },
    {
      "cell_type": "markdown",
      "metadata": {
        "id": "dJYpKlp4bafK",
        "colab_type": "text"
      },
      "source": [
        "## Mosaicking"
      ]
    },
    {
      "cell_type": "markdown",
      "metadata": {
        "id": "MjkqWVOGYxhG",
        "colab_type": "text"
      },
      "source": [
        "You can use masking and `imageCollection.mosaic()` to achieve various cartographic effects. The `mosaic()` method renders layers in the output image according to their order in the input collection. The following example uses `mosaic()` to combine the masked NDWI and the false color composite and obtain a new visualization:"
      ]
    },
    {
      "cell_type": "code",
      "metadata": {
        "id": "NoL3P47rY_GE",
        "colab_type": "code",
        "colab": {}
      },
      "source": [
        "# Mosaic the layers and display \n",
        "# Load the least cloudy image of 2015 image in Acra (Ghana)\n",
        "next = ee.ImageCollection('COPERNICUS/S2_SR').filterBounds(ee.Geometry.Point(0.9, 6)).filterDate('2019-01-01', '2019-01-31').sort('CLOUDY_PIXEL_PERCENTAGE').first()    \n",
        "\n",
        "mosaic = ee.ImageCollection([first, next]).mosaic()"
      ],
      "execution_count": null,
      "outputs": []
    },
    {
      "cell_type": "code",
      "metadata": {
        "id": "-lou2oRp0kTy",
        "colab_type": "code",
        "colab": {}
      },
      "source": [
        "import folium\n",
        "#!pip install geehydro # Life saver for plotting GEE stuff with Python!\n",
        "import geehydro\n",
        "\n",
        "\n",
        "# Use folium to visualize the imagery.\n",
        "map = folium.Map(location=[6,0.9],zoom_start=9)\n",
        "#map.setOptions('HYBRID') # To see GE map underneath\n",
        "\n",
        "map.addLayer(mosaic, {'min': 0, 'max': 2000, 'bands':['B4','B3','B2']}, 'mosaic')\n",
        "\n",
        "map"
      ],
      "execution_count": null,
      "outputs": []
    },
    {
      "cell_type": "markdown",
      "metadata": {
        "id": "68VT0FPibafK",
        "colab_type": "text"
      },
      "source": [
        "## Clipping"
      ]
    },
    {
      "cell_type": "markdown",
      "metadata": {
        "id": "mF1AW7KGzHNM",
        "colab_type": "text"
      },
      "source": [
        "The `image.clip()` method is useful for achieving cartographic effects. The following example clips the mosaic built in the previous section to an arbitrary buffer zone:"
      ]
    },
    {
      "cell_type": "code",
      "metadata": {
        "id": "fKuTDP7DzWyI",
        "colab_type": "code",
        "colab": {}
      },
      "source": [
        "# Create a circle by drawing a 20,000 meter buffer around a point.\n",
        "roi = ee.Geometry.Point([0.3, 6]).buffer(20000)\n",
        "\n",
        "# Display a clipped version of the mosaic.\n",
        "map.addLayer(mosaic.clip(roi),{'min': 0, 'max': 2000, 'bands':['B4','B3','B2']},'cropped')\n",
        "# Adding layer control to be able to activate/deactivate layers\n",
        "folium.LayerControl().add_to(map)\n",
        "# Show me\n",
        "map"
      ],
      "execution_count": null,
      "outputs": []
    },
    {
      "cell_type": "markdown",
      "metadata": {
        "id": "b5_cTHAcbafL",
        "colab_type": "text"
      },
      "source": [
        "## Image information and metadata"
      ]
    },
    {
      "cell_type": "markdown",
      "metadata": {
        "id": "K6l72ebK31dN",
        "colab_type": "text"
      },
      "source": [
        "To explore image bands and properties in the Code Editor, print() the image and inspect the output."
      ]
    },
    {
      "cell_type": "code",
      "metadata": {
        "id": "D3DXXiOx3aM7",
        "colab_type": "code",
        "colab": {}
      },
      "source": [
        "#Get information about the bands as a list.\n",
        "bandNames = image.bandNames()\n",
        "print('Band names: '+str(bandNames.getInfo())) # ee.List of band names\n",
        "\n",
        "#Get projection information from band 1.\n",
        "b1proj = image.select('B1').projection()\n",
        "print('Band 1 projection: '+str(b1proj.getInfo())) # ee.Projection object\n",
        "\n",
        "#Get scale (in meters) information from band 1.\n",
        "b1scale = image.select('B1').projection().nominalScale()\n",
        "print('Band 1 scale: '+str(b1scale.getInfo())) # ee.Number\n",
        "\n",
        "#Note that different bands can have different projections and scale.\n",
        "b8scale = image.select('B8').projection().nominalScale()\n",
        "print('Band 8 scale: '+str(b8scale.getInfo())) # ee.Number\n",
        "\n",
        "#Get a list of all metadata properties.\n",
        "properties = image.propertyNames()\n",
        "print('Metadata properties: '+str(properties.getInfo())) # ee.List of metadata properties\n",
        "\n",
        "#Get a specific metadata property.\n",
        "cloudiness = image.get('CLOUD_COVER')\n",
        "print('CLOUD_COVER: '+str(cloudiness.getInfo())) # ee.Number\n",
        "\n",
        "#Get the timestamp and convert it to a date.\n",
        "date = ee.Date(image.get('system:time_start'))\n",
        "print('Timestamp: '+str(date.getInfo())) # ee.Date"
      ],
      "execution_count": null,
      "outputs": []
    },
    {
      "cell_type": "markdown",
      "metadata": {
        "id": "EXS97OzBbafL",
        "colab_type": "text"
      },
      "source": [
        "## Mathematical operators"
      ]
    },
    {
      "cell_type": "markdown",
      "metadata": {
        "id": "BlUl4XVq4opG",
        "colab_type": "text"
      },
      "source": [
        "Earth Engine supports many basic mathematical operators. They share some common features. Earth Engine performs math operations per pixel. When an operator is applied to an image, it's applied to each unmasked pixel of each band. In the case of operations on two images, the operation is only applied at the locations where pixels in both images are unmasked. Earth Engine automatically matches bands between images. When an operator is applied to two images, the images are expected to have the same number of bands so they can be matched pairwise. However, if one of the images has only a single band, it is matched with all of the bands in the other image, essentially replicating that band enough times to match the other image.\n",
        "\n",
        "For a simple example, consider the task of creating the Normalized Difference Vegetation Index (NDVI) using Landsat imagery:"
      ]
    },
    {
      "cell_type": "code",
      "metadata": {
        "id": "Z8-5JmMV4qos",
        "colab_type": "code",
        "colab": {}
      },
      "source": [
        "#!pip install pprint\n",
        "import pprint\n",
        "\n",
        "# Configure the pretty printing output & initialize earthengine.\n",
        "pp = pprint.PrettyPrinter(depth=4)\n",
        "\n",
        "# Load two 5-year Landsat 7 composites.\n",
        "landsat1999 = ee.Image('LANDSAT/LE7_TOA_5YEAR/1999_2003')\n",
        "landsat2008 = ee.Image('LANDSAT/LE7_TOA_5YEAR/2008_2012')\n",
        "\n",
        "# Compute NDVI the hard way.\n",
        "ndvi1999 = (landsat1999.select('B4').subtract(landsat1999.select('B3'))\n",
        "    .divide(landsat1999.select('B4').add(landsat1999.select('B3'))).rename(['NDVI']))\n",
        "\n",
        "# Compute NDVI the easy way.\n",
        "ndvi2008 = landsat2008.normalizedDifference(['B4', 'B3']).rename(['NDVI'])\n",
        "\n",
        "print('NDVI 1999')\n",
        "pp.pprint(ndvi1999.getInfo())\n",
        "\n",
        "print('\\n'+'NDVI 2008')\n",
        "pp.pprint(ndvi2008.getInfo())"
      ],
      "execution_count": null,
      "outputs": []
    },
    {
      "cell_type": "code",
      "metadata": {
        "id": "FCY_T1NX50KH",
        "colab_type": "code",
        "colab": {}
      },
      "source": [
        "ndvi_diff = ndvi2008.subtract(ndvi1999)\n",
        "map2 = folium.Map()\n",
        "map2.addLayer(ndvi_diff, {'min': -0.1, 'max': 0.1, 'palette': ['ffffcc', '800026'],}, 'ndvi_diff') # Palette code for YlOrRd_09: min=ffffcc, max= 800026\n",
        "\n",
        "# Colour map\n",
        "import branca.colormap as cm\n",
        "colormap = cm.linear.YlOrRd_09.scale(-0.1, 0.1)\n",
        "colormap.caption = 'NDVI Difference 2008 - 1999'\n",
        "map2.add_child(colormap)\n",
        "map2"
      ],
      "execution_count": null,
      "outputs": []
    },
    {
      "cell_type": "markdown",
      "metadata": {
        "id": "io4h4GIb5gi1",
        "colab_type": "text"
      },
      "source": [
        "Mathematical operators perform basic arithmetic operations on image bands. The normalized difference operation is so common in remote sensing, Earth Engine provides a shortcut method, as shown in the second part of the example. Subtracting the images in this example results in a \"change vector\" for each pixel. Bands are matched automatically to perform the difference:"
      ]
    },
    {
      "cell_type": "code",
      "metadata": {
        "id": "uvxfl35V5nN9",
        "colab_type": "code",
        "colab": {}
      },
      "source": [
        "# Load two 5-year Landsat 7 composites get only 3bands from them\n",
        "landsat1999 = ee.Image('LANDSAT/LE7_TOA_5YEAR/1999_2003').select(['B4', 'B3', 'B2'])\n",
        "landsat2008 = ee.Image('LANDSAT/LE7_TOA_5YEAR/2008_2012').select(['B4', 'B3', 'B2'])\n",
        "\n",
        "# Compute the multi-band difference image.\n",
        "diff = landsat2008.subtract(landsat1999)\n",
        "print('Difference')\n",
        "pp.pprint(diff.getInfo())\n",
        "\n",
        "\n",
        "# Compute the squared difference in each band.\n",
        "squaredDifference = diff.pow(2)\n",
        "print('\\n'+'Squared Difference')\n",
        "pp.pprint(squaredDifference.getInfo())"
      ],
      "execution_count": null,
      "outputs": []
    },
    {
      "cell_type": "markdown",
      "metadata": {
        "id": "se_322KvBS3D",
        "colab_type": "text"
      },
      "source": [
        "## Expressions"
      ]
    },
    {
      "cell_type": "markdown",
      "metadata": {
        "id": "tTW42SgjBUxY",
        "colab_type": "text"
      },
      "source": [
        "To implement more complex mathematical expressions, consider using image.`expression()`, which parses a text representation of a math operation. The following example uses `expression()` to compute the Enhanced Vegetation Index (EVI):"
      ]
    },
    {
      "cell_type": "code",
      "metadata": {
        "id": "MfAgoyzsBabT",
        "colab_type": "code",
        "colab": {}
      },
      "source": [
        "# Load a Landsat 8 image.\n",
        "image5 = ee.Image('LANDSAT/LC08/C01/T1_TOA/LC08_044034_20200505');\n",
        "\n",
        "# Compute the EVI using an expression.\n",
        "evi = image5.expression(\n",
        "    '2.5 * ((NIR - RED) / (NIR + 6 * RED - 7.5 * BLUE + 1))', {\n",
        "      'NIR': image5.select('B5'),\n",
        "      'RED': image5.select('B4'),\n",
        "      'BLUE': image5.select('B2')\n",
        "})\n",
        "\n",
        "Image(url=evi.getThumbUrl({'min': -1, 'max': 1, 'palette':  ['FF0000', '00FF00'],'dimensions': 512}))"
      ],
      "execution_count": null,
      "outputs": []
    },
    {
      "cell_type": "markdown",
      "metadata": {
        "id": "FVRnc-R3bafN",
        "colab_type": "text"
      },
      "source": [
        "## Relational, conditional and Boolean operations"
      ]
    },
    {
      "cell_type": "markdown",
      "metadata": {
        "id": "oEd9aDn9IP3x",
        "colab_type": "text"
      },
      "source": [
        "To perform per-pixel comparisons between images, use relational operators. To extract urbanized areas in an image, this example uses relational operators to threshold spectral indices, combining the thresholds with and():"
      ]
    },
    {
      "cell_type": "code",
      "metadata": {
        "id": "RXxGRebuIPGm",
        "colab_type": "code",
        "colab": {}
      },
      "source": [
        "# Create NDVI and NDWI spectral indices.\n",
        "ndvi = image.normalizedDifference(['B5', 'B4'])\n",
        "ndwi = image.normalizedDifference(['B3', 'B5'])\n",
        "\n",
        "# Create a binary layer using logical operations.\n",
        "bare = ndvi.lt(0.2) and (ndwi.lt(0))\n",
        "\n",
        "print('Bare')\n",
        "pp.pprint(bare.getInfo())"
      ],
      "execution_count": null,
      "outputs": []
    },
    {
      "cell_type": "code",
      "metadata": {
        "id": "7pNnbgXtIim6",
        "colab_type": "code",
        "colab": {}
      },
      "source": [
        "Image(url=bare.getThumbUrl({'min': 0, 'max': 1, 'palette':  ['C0C0C0', '000000'],'dimensions': 512})) # Min is silver, max is black"
      ],
      "execution_count": null,
      "outputs": []
    },
    {
      "cell_type": "code",
      "metadata": {
        "id": "7hr_CjUZI5rb",
        "colab_type": "code",
        "colab": {}
      },
      "source": [
        "# Mask the image with itslef to obtain only the land (pixels with value==1 (or TRUE))\n",
        "map3 = folium.Map(location=[37.5010,-122.1899],zoom_start=8)\n",
        "newbare = bare.updateMask(bare)\n",
        "map3.addLayer(newbare, {'min': 0, 'max': 0.1, 'palette': ['FF0000', '00FF00']}, 'Water vs land') \n",
        "map3"
      ],
      "execution_count": null,
      "outputs": []
    },
    {
      "cell_type": "code",
      "metadata": {
        "id": "VwSlpouOKaWe",
        "colab_type": "code",
        "colab": {}
      },
      "source": [
        "# Mask the image with pixels with value==0 \n",
        "map4 = folium.Map(location=[37.5010,-122.1899],zoom_start=8)\n",
        "opp_bare = bare.updateMask(bare.eq(0))\n",
        "map4.addLayer(opp_bare, {'min': 0, 'max': 0.1, 'palette': ['FF0000', '00FF00']}, 'Water vs land') \n",
        "map4"
      ],
      "execution_count": null,
      "outputs": []
    }
  ]
}