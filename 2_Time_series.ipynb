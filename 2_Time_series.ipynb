{
  "nbformat": 4,
  "nbformat_minor": 0,
  "metadata": {
    "colab": {
      "name": "2-Time_series.ipynb",
      "provenance": [],
      "collapsed_sections": []
    },
    "kernelspec": {
      "name": "python3",
      "display_name": "Python 3"
    }
  },
  "cells": [
    {
      "cell_type": "markdown",
      "metadata": {
        "id": "RVEvhIPup_eH",
        "colab_type": "text"
      },
      "source": [
        "# ImageCollection"
      ]
    },
    {
      "cell_type": "markdown",
      "metadata": {
        "id": "e27xXJbqqH1I",
        "colab_type": "text"
      },
      "source": [
        "An ImageCollection is a stack or time series of images. In addition to loading an ImageCollection using an Earth Engine collection ID, Earth Engine has methods to create image collections. The constructor `ee.ImageCollection()` or the convenience method `ee.ImageCollection.fromImages()` create image collections from lists of images. While single images are great to do quick analytics, the true power of the Earth Engine environment comes with the possibility of looking at really large and heavy image collections and to be able to push analysis towards the data, rather than the need for the data to travel at all. In the GEE environment image collections have their own characteristic setup and are composted with single images that we discussed earlier. They can often have the same or different band structure but generally share a similar metadata structure for filtering and querying.\n",
        "\n",
        "Large scale image collections such as Landsat and Sentinel image collections are ingested on the fly and are actively maintained till there imagery and processing pipelines feeds are maintained byt he agencies supplying the imagery. Images as well as image collections can be moved into GEE environment to allow you to use both your data and the GEE catalog data within the same platform.\n",
        "\n",
        "These image collection as well as individual images again have defined data type,scales and projections along with some default properties such as an index and ID among other system properties. To have a look at all of the raster catalog you can find them listed [here](https://developers.google.com/earth-engine/datasets/catalog/). \n",
        "\n",
        "You can also create new image collections by merging existing collections."
      ]
    },
    {
      "cell_type": "code",
      "metadata": {
        "id": "IUgL7N12qxJ_",
        "colab_type": "code",
        "colab": {}
      },
      "source": [
        "# Import earthengine API\n",
        "import ee\n",
        "# Authenticate and initialise \n",
        "ee.Authenticate()\n",
        "ee.Initialize()"
      ],
      "execution_count": null,
      "outputs": []
    },
    {
      "cell_type": "code",
      "metadata": {
        "id": "lC0dNpc2qjNf",
        "colab_type": "code",
        "colab": {}
      },
      "source": [
        "# Create arbitary constant images\n",
        "constant1 = ee.Image(1)\n",
        "constant2 = ee.Image(2)\n",
        "\n",
        "# Create a collection by giving a list to the constructor.\n",
        "collectionFromConstructor = ee.ImageCollection([constant1, constant2])\n",
        "print('collectionFromConstructor: ', collectionFromConstructor.getInfo())\n",
        "\n",
        "# Create a collection with fromImages().\n",
        "collectionFromImages = ee.ImageCollection.fromImages([ee.Image(3), ee.Image(4)])\n",
        "print('collectionFromImages: ', collectionFromImages.getInfo());\n",
        "\n",
        "# Merge two collections.\n",
        "mergedCollection = collectionFromConstructor.merge(collectionFromImages);\n",
        "print('mergedCollection: ', mergedCollection.getInfo());"
      ],
      "execution_count": null,
      "outputs": []
    },
    {
      "cell_type": "markdown",
      "metadata": {
        "id": "1ec0c6ECrKU3",
        "colab_type": "text"
      },
      "source": [
        "## Image Collection metadata and information"
      ]
    },
    {
      "cell_type": "markdown",
      "metadata": {
        "id": "PYHhFvdSrONT",
        "colab_type": "text"
      },
      "source": [
        "As with Images, there are a variety of ways to get information about an ImageCollection. The collection can be printed directly to the console, but the console printout is limited to 5000 elements. Collections larger than 5000 images will need to be filtered before printing. Printing a large collection will be correspondingly slower. The following example shows various ways of getting information about image collections programmatically:"
      ]
    },
    {
      "cell_type": "code",
      "metadata": {
        "id": "NvPcAdbqrLhu",
        "colab_type": "code",
        "colab": {}
      },
      "source": [
        "import pprint\n",
        "\n",
        "# Configure the pretty printing output & initialize earthengine.\n",
        "pp = pprint.PrettyPrinter(depth=4)\n",
        "\n",
        "# Load a Landsat 8 ImageCollection for a single path-row.\n",
        "collection = (ee.ImageCollection('LANDSAT/LC08/C01/T1_TOA')\n",
        "    .filter(ee.Filter.eq('WRS_PATH', 44))\n",
        "    .filter(ee.Filter.eq('WRS_ROW', 34))\n",
        "    .filterDate('2014-03-01', '2014-08-01'))\n",
        "#pp.pprint('Collection: '+str(collection.getInfo())+'\\n')\n",
        "\n",
        "# Get the number of images.\n",
        "count = collection.size()\n",
        "print('Number of images in collection: ', str(count.getInfo())+'\\n')\n",
        "\n",
        "# Get the date range of images in the collection.\n",
        "range = collection.reduceColumns(ee.Reducer.minMax(), [\"system:time_start\"])\n",
        "print('Date range: ', str(ee.Date(range.get('min')).getInfo()), str(ee.Date(range.get('max')).getInfo())+'\\n')\n",
        "\n",
        "# Get statistics for a property of the images in the collection.\n",
        "sunStats = collection.aggregate_stats('SUN_ELEVATION')\n",
        "pp.pprint('Sun elevation statistics: '+str(sunStats.getInfo())+'\\n')\n",
        "\n",
        "# Sort by a cloud cover property, get the least cloudy image.\n",
        "image = ee.Image(collection.sort('CLOUD_COVER').first())\n",
        "print('Least cloudy image: ', str(image.getInfo())+'\\n')\n",
        "\n",
        "# Limit the collection to the 5 most recent images.\n",
        "recent = collection.sort('system:time_start', False).limit(5)\n",
        "#pp.pprint('Recent images: '+str(recent.getInfo())+'\\n')\n",
        "\n",
        "# Get size of collection in bytes\n",
        "print('Total size of Collection with 5 most recent images : '+str((recent.reduceColumns(ee.Reducer.sum(), ['system:asset_size']).getInfo()['sum'])))"
      ],
      "execution_count": null,
      "outputs": []
    },
    {
      "cell_type": "markdown",
      "metadata": {
        "id": "RgPE1exDr5LL",
        "colab_type": "text"
      },
      "source": [
        "## Filtering an ImageCollection\n"
      ]
    },
    {
      "cell_type": "markdown",
      "metadata": {
        "id": "9IAv4PXbr-ic",
        "colab_type": "text"
      },
      "source": [
        "Specifically, many common use cases are handled by `imageCollection.filterDate()`, and `imageCollection.filterBounds()`. For general purpose filtering, use `imageCollection.filter()` with an `ee.Filter` as an argument. The following example demonstrates both convenience methods and `filter()` to identify and remove images with bad registration from an ImageCollection:"
      ]
    },
    {
      "cell_type": "code",
      "metadata": {
        "id": "MVewbmnSr6zE",
        "colab_type": "code",
        "colab": {}
      },
      "source": [
        "# Load Landsat 5 data, filter by date and bounds.\n",
        "collection = ee.ImageCollection('LANDSAT/LT05/C01/T2').filterDate('1987-01-01', '1990-05-01').filterBounds(ee.Geometry.Point(25.8544, -18.08874))\n",
        "\n",
        "# Also filter the collection by the IMAGE_QUALITY property.\n",
        "filtered = collection.filterMetadata('IMAGE_QUALITY', 'equals', 9)\n",
        "\n",
        "# Create two composites to check the effect of filtering by IMAGE_QUALITY.\n",
        "badComposite = ee.Algorithms.Landsat.simpleComposite(collection, 75, 3) # percentile and cloud score\n",
        "goodComposite = ee.Algorithms.Landsat.simpleComposite(filtered, 75, 3)    "
      ],
      "execution_count": null,
      "outputs": []
    },
    {
      "cell_type": "code",
      "metadata": {
        "id": "FTjeLge4taVO",
        "colab_type": "code",
        "colab": {}
      },
      "source": [
        "# Display the composites.\n",
        "\n",
        "import folium\n",
        "!pip install geehydro # Life saver for plotting GEE stuff with Python!\n",
        "import geehydro\n",
        "\n",
        "# Use folium to visualize the imagery.\n",
        "map = folium.Map(location=[-18.08874,25.8544],zoom_start=9)\n",
        "\n",
        "map.addLayer(goodComposite, {'bands': ['B3', 'B2', 'B1'], 'gain':3.5}, 'good composite')\n",
        "map.addLayer(badComposite, {'bands': ['B3', 'B2', 'B1'], 'gain':3.5}, 'bad composite')\n",
        "folium.LayerControl().add_to(map)\n",
        "map"
      ],
      "execution_count": null,
      "outputs": []
    },
    {
      "cell_type": "markdown",
      "metadata": {
        "id": "1bPymZgAw9dN",
        "colab_type": "text"
      },
      "source": [
        "## Mapping over an ImageCollection"
      ]
    },
    {
      "cell_type": "markdown",
      "metadata": {
        "id": "eD-ErgujxjFJ",
        "colab_type": "text"
      },
      "source": [
        "To apply a function to every Image in an ImageCollection use `imageCollection.map()`. The only argument to `map()` is a function which takes one parameter: an `ee.Image`. For example, the following code adds a timestamp band to every image in the collection:"
      ]
    },
    {
      "cell_type": "code",
      "metadata": {
        "id": "DAco3TQUxgY1",
        "colab_type": "code",
        "colab": {}
      },
      "source": [
        "# Load a Landsat 8 collection for a single path-row.\n",
        "collection = ee.ImageCollection('LANDSAT/LC08/C01/T1_TOA').filter(ee.Filter.eq('WRS_PATH', 44)).filter(ee.Filter.eq('WRS_ROW', 34))\n",
        "\n",
        "# This function adds a band representing the image timestamp.\n",
        "def addTime(image):\n",
        "    return image.addBands(image.metadata('system:time_start'))\n",
        "\n",
        "# Map the function over the collection and display the result.\n",
        "print(collection.map(addTime))\n",
        "    "
      ],
      "execution_count": null,
      "outputs": []
    },
    {
      "cell_type": "markdown",
      "metadata": {
        "id": "a6mZkQQ7yTi-",
        "colab_type": "text"
      },
      "source": [
        "The `map()` function is equivalent to a `for` loop in Earth Engine. \n",
        "\n",
        "The mapped function is limited in the operations it can perform. Specifically, it can’t modify variables outside the function; it can’t print anything; it can’t use ‘if’ or ‘for’ statements. However, you can use `ee.Algorithms.If()` to perform conditional operations in a mapped function. For example:"
      ]
    },
    {
      "cell_type": "code",
      "metadata": {
        "id": "LLQj1-taymE_",
        "colab_type": "code",
        "colab": {}
      },
      "source": [
        "# This function uses a conditional statement to return the image if\n",
        "# the solar elevation > 40 degrees.  Otherwise it returns a zero image.\n",
        "def conditional(image):\n",
        "  return ee.Algorithms.If(ee.Number(image.get('SUN_ELEVATION')).gt(60),image,ee.Image(0))\n",
        "\n",
        "result = collection.map(conditional)\n",
        "\n",
        "# Print it\n",
        "#!pip install pprint\n",
        "import pprint\n",
        "# Configure the pretty printing output\n",
        "pp = pprint.PrettyPrinter(depth=4)\n",
        "pp.pprint(result.getInfo())\n",
        "    "
      ],
      "execution_count": null,
      "outputs": []
    },
    {
      "cell_type": "markdown",
      "metadata": {
        "id": "1H5IjieZ0SA9",
        "colab_type": "text"
      },
      "source": [
        "Inspect the list of images in the output ImageCollection and note that the when the condition evaluated by the `If()` algorithm is true, the output contains an image, if it is not true, it contains an empty image. Although this demonstrates a server-side conditional function, avoid `If()` in general and use filters instead."
      ]
    },
    {
      "cell_type": "markdown",
      "metadata": {
        "id": "PzG9z31c2W3a",
        "colab_type": "text"
      },
      "source": [
        "## Reducing an ImageCollection"
      ]
    },
    {
      "cell_type": "markdown",
      "metadata": {
        "id": "SIYROIal2dV7",
        "colab_type": "text"
      },
      "source": [
        "To composite images in an ImageCollection, use `imageCollection.reduce()`. This will composite all the images in the collection to a single image representing, for example, the min, max, mean or standard deviation of the images. For example, to create a median value image from a collection:"
      ]
    },
    {
      "cell_type": "code",
      "metadata": {
        "id": "SbeB3nTg0W2n",
        "colab_type": "code",
        "colab": {}
      },
      "source": [
        "# Load a Landsat 8 collection for a specific date range.\n",
        "collection2 = collection.filterDate('2014-01-01', '2015-01-01')\n",
        "\n",
        "# Compute a median image and display.\n",
        "median = collection2.median();\n",
        "\n",
        "# Use folium to visualize the imagery.\n",
        "map2 = folium.Map(location=[37.7726,-122.3578],zoom_start=12)\n",
        "map2.addLayer(median, {'bands': ['B4', 'B3', 'B2'], 'max': 0.3}, 'median')\n",
        "map2    "
      ],
      "execution_count": null,
      "outputs": []
    },
    {
      "cell_type": "markdown",
      "metadata": {
        "id": "g0j9AtlW3W58",
        "colab_type": "text"
      },
      "source": [
        "At each location in the output image, in each band, the pixel value is the median of all unmasked pixels in the input imagery (the images in the collection). In the previous example, `median()` is a convenience method for the following call:"
      ]
    },
    {
      "cell_type": "code",
      "metadata": {
        "id": "02docXYP3ZB4",
        "colab_type": "code",
        "colab": {}
      },
      "source": [
        "# Reduce the collection with a median reducer.\n",
        "median_bis = collection2.reduce(ee.Reducer.median())\n",
        "\n",
        "# Display the median image.\n",
        "map2.addLayer(median_bis, {'bands': ['B4_median', 'B3_median', 'B2_median'], 'max': 0.3}, 'median_bis')\n",
        "folium.LayerControl().add_to(map2)\n",
        "map2 "
      ],
      "execution_count": null,
      "outputs": []
    },
    {
      "cell_type": "markdown",
      "metadata": {
        "id": "S0Fj9eji4Inz",
        "colab_type": "text"
      },
      "source": [
        "Note that the band names differ as a result of using reduce() instead of the convenience method. Specifically, the names of the reducer have been appended to the band names."
      ]
    },
    {
      "cell_type": "markdown",
      "metadata": {
        "id": "ocpI9nrS4WK9",
        "colab_type": "text"
      },
      "source": [
        "## Iterating over an ImageCollection\n"
      ]
    },
    {
      "cell_type": "markdown",
      "metadata": {
        "id": "2eBIjP3y9hcg",
        "colab_type": "text"
      },
      "source": [
        "Although `map()` applies a function to every image in a collection, the function visits every image in the collection independently. \n",
        "\n",
        "Suppose you want to compute a cumulative anomaly ($A_t$) at time t from a time series. To obtain a recursively defined series of the form $A_t = f(Image_t, A_{t-1})$, mapping won't work because the function ($f$) depends on the previous result ($A_{t-1}$). \n",
        "\n",
        "For example, suppose you want to compute a series of cumulative Normalized Difference Vegetation Index (NDVI) anomaly images relative to a baseline. Let $A_0 = 0$ and $f(Image_t, A_{t-1}) = Image_t + A_{t-1}$ where $A_{t-1}$ is the cumulative anomaly up to time t-1 and $Image_t$ is the anomaly at time t. Use `imageCollection.iterate()` to make this recursively defined ImageCollection. \n",
        "\n",
        "In the following example, the function `accumulate()` takes two parameters: an image in the collection, and a list of all the previous outputs. With each call to `iterate()`, the anomaly is added to the running sum and the result is added to the list. The final result is passed to the ImageCollection constructor to get a new sequence of images:"
      ]
    },
    {
      "cell_type": "code",
      "metadata": {
        "id": "76YLyLjK4JeI",
        "colab_type": "code",
        "colab": {}
      },
      "source": [
        "# Load MODIS EVI (Enhanced Vegetation index) imagery.\n",
        "collection = ee.ImageCollection('MODIS/006/MYD13A1').select('EVI')\n",
        "\n",
        "# Define reference conditions from the first 10 years of data\n",
        "# Sort chronologically in descending order\n",
        "reference = collection.filterDate('2001-01-01', '2010-12-31').sort('system:time_start', False)\n",
        "\n",
        "# Compute the mean of the first 10 years.\n",
        "mean = reference.mean()\n",
        "\n",
        "# Compute anomalies by subtracting the 2001-2010 mean from each image in a\n",
        "# collection of 2011-2014 images. Copy the date metadata over to the\n",
        "# computed anomaly images in the new collection.\n",
        "\n",
        "def subtracting(image):\n",
        "  return image.subtract(mean).set('system:time_start', image.get('system:time_start'))\n",
        "\n",
        "filtered = collection.filterDate('2011-01-01', '2014-12-31')\n",
        "\n",
        "series = collection.map(subtracting)\n",
        "series_sum = series.sum()\n",
        "\n",
        "# Display cumulative anomalies.\n",
        "# Use folium to visualize the imagery.\n",
        "map3 = folium.Map(location=[40.2,-100.811],zoom_start=5)\n",
        "map3.addLayer(series_sum, {'min': -60000, 'max': 60000, 'palette': ['FF0000', '000000', '00FF00']}, 'EVI anomaly')\n",
        "map3  "
      ],
      "execution_count": null,
      "outputs": []
    },
    {
      "cell_type": "markdown",
      "metadata": {
        "id": "w_DZyxH22uov",
        "colab_type": "text"
      },
      "source": [
        "## Plotting time series"
      ]
    },
    {
      "cell_type": "code",
      "metadata": {
        "id": "lpUISYBHLd-9",
        "colab_type": "code",
        "colab": {}
      },
      "source": [
        "%matplotlib inline\n",
        "from IPython.display import Image\n",
        "import ee, datetime\n",
        "import pandas as pd\n",
        "from pylab import *\n",
        "from matplotlib.pylab import rcParams\n",
        "\n",
        "\n",
        "# Define point in the Amazon rainforest\n",
        "point = ee.Geometry.Point(-65.544, -4.894)\n",
        "\n",
        "# Get info from the point\n",
        "\n",
        "info = collection.getRegion(point,500).getInfo() # change colelction by series\n",
        "print(info)\n",
        "\n",
        "# Reshape image collection \n",
        "# Spearate header from data, and store data in an array\n",
        "header = info[0]\n",
        "data = array(info[1:])\n",
        "\n",
        "# Extract time from data\n",
        "iTime = header.index('time')\n",
        "time = [datetime.datetime.fromtimestamp(i/1000) for i in (data[0:,iTime].astype(int))]\n",
        "\n",
        "# List of used image bands\n",
        "band_list = ['EVI']\n",
        "\n",
        "iBands = [header.index(b) for b in band_list]\n",
        "yData = data[0:,iBands].astype(np.float)\n",
        "#print(yData)\n",
        "\n",
        "evi = yData[:,0]*0.0001 # USGS specifications: scale factor\n",
        "#print(evi)\n",
        "\n",
        "# Reshape EVI array into Pandas Dataframe\n",
        "df = pd.DataFrame(data=evi, columns=['EVI'])\n",
        "#print(df)\n",
        "\n",
        "df['Date'] = pd.Series(time, index=df.index)\n",
        "#print(df)"
      ],
      "execution_count": null,
      "outputs": []
    },
    {
      "cell_type": "code",
      "metadata": {
        "id": "OHZO0t_0zrN7",
        "colab_type": "code",
        "colab": {}
      },
      "source": [
        "# Plotting\n",
        "\n",
        "rcParams['figure.figsize'] = 15, 6\n",
        "df.plot(y='EVI',x='Date')\n",
        "plt.show()\n"
      ],
      "execution_count": null,
      "outputs": []
    }
  ]
}