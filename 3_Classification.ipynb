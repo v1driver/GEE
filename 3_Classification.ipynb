{
  "nbformat": 4,
  "nbformat_minor": 0,
  "metadata": {
    "colab": {
      "name": "3-Classification.ipynb",
      "provenance": [],
      "collapsed_sections": []
    },
    "kernelspec": {
      "name": "python3",
      "display_name": "Python 3"
    }
  },
  "cells": [
    {
      "cell_type": "markdown",
      "metadata": {
        "id": "A-fObiRS6xuW",
        "colab_type": "text"
      },
      "source": [
        "# Machine learning in Earth Engine"
      ]
    },
    {
      "cell_type": "markdown",
      "metadata": {
        "id": "OQnuuo-36439",
        "colab_type": "text"
      },
      "source": [
        "Machine Learning (ML) in Earth Engine is supported with Earth Engine API methods in the `ee.Classifier`, `ee.Clusterer`, or `ee.Reducer` packages for training and inference within Earth Engine.\n",
        "\n",
        "These are useful for approx. less than 400 images.\n",
        "\n",
        "If more, TensorFlow is the way to go.\n",
        "\n",
        "TensorFlow is developed and trained outside of Earth Engine, but Earth Engine provides the option to import and export data in [TFRecord](https://www.tensorflow.org/tutorials/load_data/tfrecord#tfrecords_format_details) format. This way, you can generate training datasets in Earth Engine.\n",
        "\n",
        "Due to time limitations, we are going to focus on Classifiers, but you should explore further in your own time!"
      ]
    },
    {
      "cell_type": "markdown",
      "metadata": {
        "id": "xPZHaqbJ8Gul",
        "colab_type": "text"
      },
      "source": [
        "## Supervised classification algorithms"
      ]
    },
    {
      "cell_type": "markdown",
      "metadata": {
        "id": "cBZWDSsK8NfX",
        "colab_type": "text"
      },
      "source": [
        "The `Classifier` package handles supervised classification by traditional Machine Learning (ML) algorithms running in Earth Engine. \n",
        "\n",
        "These classifiers include Classification and Regression Trees ([CART](https://towardsdatascience.com/https-medium-com-lorrli-classification-and-regression-analysis-with-decision-trees-c43cdbc58054)), [RandomForest](https://towardsdatascience.com/understanding-random-forest-58381e0602d2), [NaiveBayes](https://towardsdatascience.com/all-about-naive-bayes-8e13cef044cf) and Support Vector Machine ([SVM](https://towardsdatascience.com/support-vector-machines-svm-c9ef22815589))."
      ]
    },
    {
      "cell_type": "markdown",
      "metadata": {
        "id": "1KXnM8tu93fj",
        "colab_type": "text"
      },
      "source": [
        "The way classification works is:\n",
        "\n",
        "\n",
        "\n",
        "*   Collect training data. Assemble features which have a property that stores the known class label and properties storing numeric values for the predictors.\n",
        "*   Instantiate a classifier. Set its parameters if necessary.\n",
        "*   Train the classifier using the training data.\n",
        "*   Classify an image or feature collection.\n",
        "*   Estimate classification error with independent validation data.\n",
        "\n"
      ]
    },
    {
      "cell_type": "code",
      "metadata": {
        "id": "XmD3dQUvD4nv",
        "colab_type": "code",
        "colab": {}
      },
      "source": [
        "# Import earthengine API\n",
        "import ee\n",
        "# Authenticate and initialise \n",
        "ee.Authenticate()\n",
        "ee.Initialize()"
      ],
      "execution_count": null,
      "outputs": []
    },
    {
      "cell_type": "code",
      "metadata": {
        "id": "AXEZqxl4-E6a",
        "colab_type": "code",
        "colab": {}
      },
      "source": [
        "# Make a cloud-free Landsat 8 TOA composite (from raw imagery)\n",
        "l8 = ee.ImageCollection('LANDSAT/LC08/C01/T1')\n",
        "\n",
        "image = ee.Algorithms.Landsat.simpleComposite(l8.filterDate('2018-01-01', '2018-12-31'))#,asFloat='true')\n",
        "\n",
        "# Use these bands for prediction.\n",
        "bands = ['B2', 'B3', 'B4', 'B5', 'B6', 'B7', 'B10', 'B11']\n",
        "\n",
        "# Load training points. The numeric property 'class' stores known labels.\n",
        "points = ee.FeatureCollection('GOOGLE/EE/DEMOS/demo_landcover_labels')\n",
        "\n",
        "# This property stores the land cover labels as consecutive\n",
        "# integers starting from zero.\n",
        "label = 'landcover'\n",
        "\n",
        "# Overlay the points on the imagery to get training.\n",
        "training = image.select(bands).sampleRegions(points,properties=[label],scale=30)\n",
        "\n",
        "# Train a CART classifier with default parameters.\n",
        "trained = ee.Classifier.smileCart().train(training, label, bands)\n",
        "\n",
        "# Classify the image with the same bands used for training.\n",
        "classified = image.select(bands).classify(trained)\n"
      ],
      "execution_count": null,
      "outputs": []
    },
    {
      "cell_type": "code",
      "metadata": {
        "id": "16af-yxDFx-r",
        "colab_type": "code",
        "colab": {}
      },
      "source": [
        "# Plot the result\n",
        "\n",
        "import folium\n",
        "#!pip install geehydro # Life saver for plotting GEE stuff with Python!\n",
        "import geehydro\n",
        "#print(points.getInfo())\n",
        "# Use folium to visualize the imagery.\n",
        "map = folium.Map(location=[37.820452055421086,-122.27096557617189],zoom_start=11)\n",
        "\n",
        "map.addLayer(image, {'bands': ['B4', 'B3', 'B2']}, 'image')\n",
        "map.addLayer(classified, {'min':0, 'max':2, 'palette': ['red', 'green', 'blue']}, 'classification')\n",
        "folium.LayerControl().add_to(map)\n",
        "map\n"
      ],
      "execution_count": null,
      "outputs": []
    },
    {
      "cell_type": "markdown",
      "metadata": {
        "id": "waAv_U9FI9k0",
        "colab_type": "text"
      },
      "source": [
        "Note that the training property (`'landcover'`) stores consecutive integers starting at 0 (Use `remap()` on your table to turn your class labels into consecutive integers starting at zero if necessary).\n",
        "\n",
        "If the training data are polygons representing homogenous regions, every pixel in each polygon is a training point. You can use polygons to train as illustrated in the following example:"
      ]
    },
    {
      "cell_type": "code",
      "metadata": {
        "id": "YbGbywJXJDsP",
        "colab_type": "code",
        "colab": {}
      },
      "source": [
        "# Make a cloud-free Landsat 8 TOA composite (from raw imagery).\n",
        "l8 = ee.ImageCollection('LANDSAT/LC08/C01/T1')\n",
        "\n",
        "image = ee.Algorithms.Landsat.simpleComposite(l8.filterDate('2018-01-01', '2018-12-31'))\n",
        "\n",
        "# Use these bands for prediction.\n",
        "bands = ['B2', 'B3', 'B4', 'B5', 'B6', 'B7', 'B10', 'B11']\n",
        "\n",
        "# Manually created polygons.\n",
        "forest1 = ee.Geometry.Rectangle(-63.0187, -9.3958, -62.9793, -9.3443)\n",
        "forest2 = ee.Geometry.Rectangle(-62.8145, -9.206, -62.7688, -9.1735)\n",
        "nonForest1 = ee.Geometry.Rectangle(-62.8161, -9.5001, -62.7921, -9.4486)\n",
        "nonForest2 = ee.Geometry.Rectangle(-62.6788, -9.044, -62.6459, -8.9986)\n",
        "\n",
        "# Make a FeatureCollection from the hand-made geometries.\n",
        "polygons = ee.FeatureCollection([\n",
        "  ee.Feature(nonForest1, {'class': 0}),\n",
        "  ee.Feature(nonForest2, {'class': 0}),\n",
        "  ee.Feature(forest1, {'class': 1}),\n",
        "  ee.Feature(forest2, {'class': 1}),\n",
        "])\n",
        "\n",
        "# Get the values for all pixels in each polygon in the training.\n",
        "  # Get the sample from the polygons FeatureCollection.\n",
        "  # Keep this list of properties from the polygons.\n",
        "  # Set the scale to get Landsat pixels in the polygons.\n",
        "training = image.sampleRegions(polygons, properties= ['class'], scale= 30)\n",
        "  \n",
        "# Create an SVM classifier with custom parameters.\n",
        "# RBF = Radial Basis Function kernel\n",
        "classifier = ee.Classifier.libsvm(kernelType='RBF',gamma= 0.5,cost= 10)\n",
        "\n",
        "# Train the classifier.\n",
        "trained = classifier.train(training, 'class', bands);\n",
        "\n",
        "# Classify one image.\n",
        "\n",
        "classified = image.classify(trained)\n",
        "\n",
        "# Redude the region to plot it without issues\n",
        "\n",
        "roi = ee.Geometry.Rectangle([-62.836, -9.2399, -8, -61]);\n",
        "classified_reduced = classified.clip(roi)\n"
      ],
      "execution_count": null,
      "outputs": []
    },
    {
      "cell_type": "code",
      "metadata": {
        "id": "Q9UbYEN8mlgR",
        "colab_type": "code",
        "colab": {}
      },
      "source": [
        "# Plot the result\n",
        "\n",
        "map = folium.Map(location=[-9.2399,-62.836],zoom_start=9)\n",
        "\n",
        "map.addLayer(image, {'bands': ['B4', 'B3', 'B2']}, 'image')\n",
        "map.addLayer(polygons, {}, 'training polygons')\n",
        "map.addLayer(classified_reduced, {'min': 0, 'max': 1, 'palette': ['red', 'green']}, 'deforestation') # Probably wont be able to plot it!\n",
        "folium.LayerControl().add_to(map)\n",
        "map"
      ],
      "execution_count": null,
      "outputs": []
    },
    {
      "cell_type": "markdown",
      "metadata": {
        "id": "t8mms6Bd7CaE",
        "colab_type": "text"
      },
      "source": [
        "## Unsupervised classification"
      ]
    },
    {
      "cell_type": "markdown",
      "metadata": {
        "id": "JfD47CRl7Fa6",
        "colab_type": "text"
      },
      "source": [
        "The `ee.Clusterer` package handles unsupervised classification (or clustering) in Earth Engine. More details about each Clusterer are available in the [reference docs in the Code Editor](https://code.earthengine.google.com/#workspace).\n",
        "\n",
        "Clusterers are used in the same manner as classifiers in Earth Engine. The general workflow for clustering is:\n",
        "\n",
        "*  Assemble features with numeric properties in which to find clusters.\n",
        "*   Instantiate a clusterer. Set its parameters if necessary.\n",
        "*  Train the clusterer using the training data.\n",
        "* Apply the clusterer to an image or feature collection.\n",
        "* Label the clusters.\n",
        "\n",
        "\n",
        "The training data is a `FeatureCollection` with properties that will be input to the clusterer. \n",
        "\n",
        "Unlike classifiers, there is no input class value for a Clusterer. \n",
        "\n",
        "Like classifiers, the data for the train and apply steps are expected to have the same number of values. When a trained clusterer is applied to an image or table, it assigns an integer cluster ID to each pixel or feature.\n",
        "\n",
        "These algorithms are currently based on the algorithms with the same name in [Weka](https://www.cs.waikato.ac.nz/ml/weka/).\n",
        "\n",
        "Here is a simple example of building and using an `ee.Clusterer`:"
      ]
    },
    {
      "cell_type": "code",
      "metadata": {
        "id": "r09eieJ27E6P",
        "colab_type": "code",
        "colab": {}
      },
      "source": [
        "# Load a pre-computed Landsat composite for input.\n",
        "input = ee.Image('LANDSAT/LE7_TOA_1YEAR/2001')\n",
        "\n",
        "# Define a region in which to generate a sample of the input.\n",
        "region = ee.Geometry.Rectangle(29.7, 30, 32.5, 31.7)\n",
        "\n",
        "# Display the sample region.\n",
        "\n",
        "map = folium.Map(location=[31,31.5],zoom_start=8)\n",
        "\n",
        "map.addLayer(ee.Image().paint(region, 0, 2), {}, 'region')\n",
        "map"
      ],
      "execution_count": null,
      "outputs": []
    },
    {
      "cell_type": "code",
      "metadata": {
        "id": "-fzRJyrc90qx",
        "colab_type": "code",
        "colab": {}
      },
      "source": [
        "# Make the training dataset.\n",
        "training = input.sample(region = region,scale= 30,  numPixels= 5000)\n",
        "\n",
        "# Instantiate the clusterer and train it.\n",
        "clusterer = ee.Clusterer.wekaKMeans(15).train(training)\n",
        "\n",
        "# Cluster the input using the trained clusterer.\n",
        "result = input.cluster(clusterer)\n",
        "\n",
        "# Display the clusters with random colors.\n",
        "\n",
        "map.addLayer(result.randomVisualizer(), {}, 'clusters')\n",
        "folium.LayerControl().add_to(map)\n",
        "map\n"
      ],
      "execution_count": null,
      "outputs": []
    }
  ]
}